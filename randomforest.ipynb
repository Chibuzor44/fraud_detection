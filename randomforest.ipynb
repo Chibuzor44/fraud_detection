{
 "cells": [
  {
   "cell_type": "code",
   "execution_count": 1,
   "metadata": {},
   "outputs": [
    {
     "data": {
      "text/html": [
       "<style>.container { width:100% !important; }</style>"
      ],
      "text/plain": [
       "<IPython.core.display.HTML object>"
      ]
     },
     "metadata": {},
     "output_type": "display_data"
    }
   ],
   "source": [
    "from IPython.core.display import display, HTML\n",
    "display(HTML(\"<style>.container { width:100% !important; }</style>\"))"
   ]
  },
  {
   "cell_type": "code",
   "execution_count": 49,
   "metadata": {},
   "outputs": [
    {
     "name": "stdout",
     "output_type": "stream",
     "text": [
      "The autoreload extension is already loaded. To reload it, use:\n",
      "  %reload_ext autoreload\n"
     ]
    }
   ],
   "source": [
    "%load_ext autoreload\n",
    "%autoreload 2\n",
    "import pandas as pd\n",
    "import numpy as np\n",
    "import random\n",
    "import matplotlib.pyplot as plt\n",
    "from sklearn.model_selection import train_test_split\n",
    "from sklearn.ensemble import RandomForestClassifier\n",
    "from sklearn.metrics import confusion_matrix\n",
    "from sklearn import metrics\n",
    "import app.eda as eda\n",
    "from sklearn.metrics import roc_curve\n",
    "import scikitplot as skplt\n",
    "import datetime\n",
    "from sklearn.model_selection import GridSearchCV\n",
    "from time import time\n",
    "\n",
    "%matplotlib inline"
   ]
  },
  {
   "cell_type": "code",
   "execution_count": 50,
   "metadata": {
    "collapsed": true
   },
   "outputs": [],
   "source": [
    "pd.set_option(\"display.max_columns\", 500)"
   ]
  },
  {
   "cell_type": "code",
   "execution_count": 51,
   "metadata": {
    "collapsed": true
   },
   "outputs": [],
   "source": [
    "#importing data\n",
    "data = pd.read_json(\"data.json\")"
   ]
  },
  {
   "cell_type": "code",
   "execution_count": 53,
   "metadata": {},
   "outputs": [],
   "source": [
    "#Exporting some of the data to load in mongo\n",
    "val_indx = random.sample(range(len(data)), 1000)\n",
    "df_exp = data.iloc[val_indx,:]\n",
    "data.drop(val_indx, inplace=True)"
   ]
  },
  {
   "cell_type": "code",
   "execution_count": 54,
   "metadata": {},
   "outputs": [
    {
     "data": {
      "text/plain": [
       "44"
      ]
     },
     "execution_count": 54,
     "metadata": {},
     "output_type": "execute_result"
    }
   ],
   "source": [
    "len(df_exp.columns)"
   ]
  },
  {
   "cell_type": "code",
   "execution_count": 55,
   "metadata": {},
   "outputs": [],
   "source": [
    "df_exp.to_json(\"test_script_examples.json\")\n",
    "data.to_json(\"train_data.json\")"
   ]
  },
  {
   "cell_type": "code",
   "execution_count": 56,
   "metadata": {},
   "outputs": [
    {
     "data": {
      "text/plain": [
       "13337"
      ]
     },
     "execution_count": 56,
     "metadata": {},
     "output_type": "execute_result"
    }
   ],
   "source": [
    "len(data)"
   ]
  },
  {
   "cell_type": "code",
   "execution_count": 57,
   "metadata": {},
   "outputs": [
    {
     "data": {
      "text/html": [
       "<div>\n",
       "<style scoped>\n",
       "    .dataframe tbody tr th:only-of-type {\n",
       "        vertical-align: middle;\n",
       "    }\n",
       "\n",
       "    .dataframe tbody tr th {\n",
       "        vertical-align: top;\n",
       "    }\n",
       "\n",
       "    .dataframe thead th {\n",
       "        text-align: right;\n",
       "    }\n",
       "</style>\n",
       "<table border=\"1\" class=\"dataframe\">\n",
       "  <thead>\n",
       "    <tr style=\"text-align: right;\">\n",
       "      <th></th>\n",
       "      <th>acct_type</th>\n",
       "      <th>approx_payout_date</th>\n",
       "      <th>body_length</th>\n",
       "      <th>channels</th>\n",
       "      <th>country</th>\n",
       "      <th>currency</th>\n",
       "      <th>delivery_method</th>\n",
       "      <th>description</th>\n",
       "      <th>email_domain</th>\n",
       "      <th>event_created</th>\n",
       "      <th>event_end</th>\n",
       "      <th>event_published</th>\n",
       "      <th>event_start</th>\n",
       "      <th>fb_published</th>\n",
       "      <th>gts</th>\n",
       "      <th>has_analytics</th>\n",
       "      <th>has_header</th>\n",
       "      <th>has_logo</th>\n",
       "      <th>listed</th>\n",
       "      <th>name</th>\n",
       "      <th>name_length</th>\n",
       "      <th>num_order</th>\n",
       "      <th>num_payouts</th>\n",
       "      <th>object_id</th>\n",
       "      <th>org_desc</th>\n",
       "      <th>org_facebook</th>\n",
       "      <th>org_name</th>\n",
       "      <th>org_twitter</th>\n",
       "      <th>payee_name</th>\n",
       "      <th>payout_type</th>\n",
       "      <th>previous_payouts</th>\n",
       "      <th>sale_duration</th>\n",
       "      <th>sale_duration2</th>\n",
       "      <th>show_map</th>\n",
       "      <th>ticket_types</th>\n",
       "      <th>user_age</th>\n",
       "      <th>user_created</th>\n",
       "      <th>user_type</th>\n",
       "      <th>venue_address</th>\n",
       "      <th>venue_country</th>\n",
       "      <th>venue_latitude</th>\n",
       "      <th>venue_longitude</th>\n",
       "      <th>venue_name</th>\n",
       "      <th>venue_state</th>\n",
       "    </tr>\n",
       "  </thead>\n",
       "  <tbody>\n",
       "    <tr>\n",
       "      <th>0</th>\n",
       "      <td>fraudster_event</td>\n",
       "      <td>1266062400</td>\n",
       "      <td>3852</td>\n",
       "      <td>5</td>\n",
       "      <td>US</td>\n",
       "      <td>USD</td>\n",
       "      <td>0.0</td>\n",
       "      <td>&lt;p&gt;&lt;a href=\"http://s432.photobucket.com/albums...</td>\n",
       "      <td>gmail.com</td>\n",
       "      <td>1262739706</td>\n",
       "      <td>1265630400</td>\n",
       "      <td>1.263110e+09</td>\n",
       "      <td>1265594400</td>\n",
       "      <td>0</td>\n",
       "      <td>0.00</td>\n",
       "      <td>0</td>\n",
       "      <td>1.0</td>\n",
       "      <td>0</td>\n",
       "      <td>y</td>\n",
       "      <td>99 HOUR \"NO SLEEP\" SUPER BOWL CELEBRITY WEEKEN...</td>\n",
       "      <td>60</td>\n",
       "      <td>0</td>\n",
       "      <td>0</td>\n",
       "      <td>527017</td>\n",
       "      <td></td>\n",
       "      <td>0.0</td>\n",
       "      <td>Party Starz Ent &amp; Diverse Int'l Group</td>\n",
       "      <td>0.0</td>\n",
       "      <td></td>\n",
       "      <td></td>\n",
       "      <td>[]</td>\n",
       "      <td>29.0</td>\n",
       "      <td>33</td>\n",
       "      <td>1</td>\n",
       "      <td>[{'event_id': 527017, 'cost': 25.0, 'availabil...</td>\n",
       "      <td>36</td>\n",
       "      <td>1259613950</td>\n",
       "      <td>1</td>\n",
       "      <td>717 Washington Avenue</td>\n",
       "      <td>US</td>\n",
       "      <td>25.777471</td>\n",
       "      <td>-80.133433</td>\n",
       "      <td>INK Nightclub - South Beach</td>\n",
       "      <td>FL</td>\n",
       "    </tr>\n",
       "    <tr>\n",
       "      <th>1</th>\n",
       "      <td>premium</td>\n",
       "      <td>1296720000</td>\n",
       "      <td>3499</td>\n",
       "      <td>0</td>\n",
       "      <td>US</td>\n",
       "      <td>USD</td>\n",
       "      <td>1.0</td>\n",
       "      <td>&lt;p&gt;Join us for a quick, one-night, community-b...</td>\n",
       "      <td>ruf.org</td>\n",
       "      <td>1293832670</td>\n",
       "      <td>1296288000</td>\n",
       "      <td>1.293833e+09</td>\n",
       "      <td>1296255600</td>\n",
       "      <td>0</td>\n",
       "      <td>868.02</td>\n",
       "      <td>0</td>\n",
       "      <td>0.0</td>\n",
       "      <td>1</td>\n",
       "      <td>n</td>\n",
       "      <td>Winthrop RUF Winter Getaway</td>\n",
       "      <td>27</td>\n",
       "      <td>23</td>\n",
       "      <td>1</td>\n",
       "      <td>786878</td>\n",
       "      <td>&lt;p&gt;Since 1987, RUF has ministered to students ...</td>\n",
       "      <td>0.0</td>\n",
       "      <td>RUF at Winthrop University</td>\n",
       "      <td>12.0</td>\n",
       "      <td>RUF</td>\n",
       "      <td>CHECK</td>\n",
       "      <td>[{'name': 'RUF', 'created': '2010-10-01 01:10:...</td>\n",
       "      <td>28.0</td>\n",
       "      <td>28</td>\n",
       "      <td>0</td>\n",
       "      <td>[{'event_id': 786878, 'cost': 35.0, 'availabil...</td>\n",
       "      <td>149</td>\n",
       "      <td>1280942776</td>\n",
       "      <td>3</td>\n",
       "      <td></td>\n",
       "      <td>US</td>\n",
       "      <td>32.776566</td>\n",
       "      <td>-79.930922</td>\n",
       "      <td>The Charleston, SC area</td>\n",
       "      <td>SC</td>\n",
       "    </tr>\n",
       "    <tr>\n",
       "      <th>2</th>\n",
       "      <td>premium</td>\n",
       "      <td>1296172800</td>\n",
       "      <td>2601</td>\n",
       "      <td>8</td>\n",
       "      <td>US</td>\n",
       "      <td>USD</td>\n",
       "      <td>1.0</td>\n",
       "      <td>&lt;h3&gt;&lt;span class=\"subcategory\"&gt;&lt;strong&gt;Teacher ...</td>\n",
       "      <td>pvsd.k12.ca.us</td>\n",
       "      <td>1291090956</td>\n",
       "      <td>1295740800</td>\n",
       "      <td>1.291092e+09</td>\n",
       "      <td>1295713800</td>\n",
       "      <td>0</td>\n",
       "      <td>3500.00</td>\n",
       "      <td>0</td>\n",
       "      <td>NaN</td>\n",
       "      <td>0</td>\n",
       "      <td>y</td>\n",
       "      <td>DRDP (2010) Teacher Training</td>\n",
       "      <td>28</td>\n",
       "      <td>19</td>\n",
       "      <td>4</td>\n",
       "      <td>787337</td>\n",
       "      <td>&lt;p&gt;&lt;a href=\"http://www.desiredresults.com\"&gt;www...</td>\n",
       "      <td>0.0</td>\n",
       "      <td>University Preparation School in collaboration...</td>\n",
       "      <td>0.0</td>\n",
       "      <td>University Preparation School</td>\n",
       "      <td>CHECK</td>\n",
       "      <td>[{'name': 'Danielle Severn', 'created': '2010-...</td>\n",
       "      <td>54.0</td>\n",
       "      <td>54</td>\n",
       "      <td>0</td>\n",
       "      <td>[{'event_id': 787337, 'cost': 93.51, 'availabi...</td>\n",
       "      <td>214</td>\n",
       "      <td>1272559388</td>\n",
       "      <td>3</td>\n",
       "      <td>10100 Pioneer Blvd Suite 100</td>\n",
       "      <td>US</td>\n",
       "      <td>33.944201</td>\n",
       "      <td>-118.080419</td>\n",
       "      <td>Los Angeles County Office of Education</td>\n",
       "      <td>CA</td>\n",
       "    </tr>\n",
       "    <tr>\n",
       "      <th>3</th>\n",
       "      <td>premium</td>\n",
       "      <td>1388966400</td>\n",
       "      <td>12347</td>\n",
       "      <td>6</td>\n",
       "      <td>IE</td>\n",
       "      <td>EUR</td>\n",
       "      <td>1.0</td>\n",
       "      <td>&lt;p style=\"margin-bottom: 1.3em; padding-bottom...</td>\n",
       "      <td>irishtabletennis.com</td>\n",
       "      <td>1360681570</td>\n",
       "      <td>1388534400</td>\n",
       "      <td>1.360683e+09</td>\n",
       "      <td>1360702800</td>\n",
       "      <td>0</td>\n",
       "      <td>1167.35</td>\n",
       "      <td>0</td>\n",
       "      <td>0.0</td>\n",
       "      <td>1</td>\n",
       "      <td>y</td>\n",
       "      <td>ITTA Affiliation 2013</td>\n",
       "      <td>21</td>\n",
       "      <td>39</td>\n",
       "      <td>16</td>\n",
       "      <td>885645</td>\n",
       "      <td></td>\n",
       "      <td>0.0</td>\n",
       "      <td></td>\n",
       "      <td>0.0</td>\n",
       "      <td></td>\n",
       "      <td>ACH</td>\n",
       "      <td>[{'name': '', 'created': '2010-11-09 01:10:15'...</td>\n",
       "      <td>0.0</td>\n",
       "      <td>0</td>\n",
       "      <td>0</td>\n",
       "      <td>[{'event_id': 885645, 'cost': 25.0, 'availabil...</td>\n",
       "      <td>889</td>\n",
       "      <td>1283870102</td>\n",
       "      <td>3</td>\n",
       "      <td></td>\n",
       "      <td>None</td>\n",
       "      <td>NaN</td>\n",
       "      <td>NaN</td>\n",
       "      <td>None</td>\n",
       "      <td>None</td>\n",
       "    </tr>\n",
       "    <tr>\n",
       "      <th>4</th>\n",
       "      <td>premium</td>\n",
       "      <td>1297900800</td>\n",
       "      <td>2417</td>\n",
       "      <td>11</td>\n",
       "      <td>US</td>\n",
       "      <td>USD</td>\n",
       "      <td>0.0</td>\n",
       "      <td>&lt;p&gt;Writers and filmmakers need to understand t...</td>\n",
       "      <td>artsandbusinesscouncil.org</td>\n",
       "      <td>1291994666</td>\n",
       "      <td>1297468800</td>\n",
       "      <td>1.291995e+09</td>\n",
       "      <td>1297440000</td>\n",
       "      <td>1</td>\n",
       "      <td>2313.15</td>\n",
       "      <td>0</td>\n",
       "      <td>0.0</td>\n",
       "      <td>0</td>\n",
       "      <td>y</td>\n",
       "      <td>Self Defense for Writers and Filmmakers: For A...</td>\n",
       "      <td>66</td>\n",
       "      <td>30</td>\n",
       "      <td>0</td>\n",
       "      <td>1114349</td>\n",
       "      <td>&lt;p&gt;&lt;font face=\"Arial\"&gt;&lt;font size=\"2\"&gt;&lt;strong&gt;T...</td>\n",
       "      <td>0.0</td>\n",
       "      <td>Arts &amp; Business Council of Greater Boston</td>\n",
       "      <td>0.0</td>\n",
       "      <td>Arts and Business Council or Greater Boston</td>\n",
       "      <td>CHECK</td>\n",
       "      <td>[{'name': 'Arts and Business Council or Greate...</td>\n",
       "      <td>63.0</td>\n",
       "      <td>63</td>\n",
       "      <td>0</td>\n",
       "      <td>[{'event_id': 1114349, 'cost': 150.0, 'availab...</td>\n",
       "      <td>35</td>\n",
       "      <td>1288984065</td>\n",
       "      <td>3</td>\n",
       "      <td>One Marina Park Drive</td>\n",
       "      <td>US</td>\n",
       "      <td>42.353848</td>\n",
       "      <td>-71.044276</td>\n",
       "      <td>Fish &amp; Richardson</td>\n",
       "      <td>MA</td>\n",
       "    </tr>\n",
       "  </tbody>\n",
       "</table>\n",
       "</div>"
      ],
      "text/plain": [
       "         acct_type  approx_payout_date  body_length  channels country  \\\n",
       "0  fraudster_event          1266062400         3852         5      US   \n",
       "1          premium          1296720000         3499         0      US   \n",
       "2          premium          1296172800         2601         8      US   \n",
       "3          premium          1388966400        12347         6      IE   \n",
       "4          premium          1297900800         2417        11      US   \n",
       "\n",
       "  currency  delivery_method  \\\n",
       "0      USD              0.0   \n",
       "1      USD              1.0   \n",
       "2      USD              1.0   \n",
       "3      EUR              1.0   \n",
       "4      USD              0.0   \n",
       "\n",
       "                                         description  \\\n",
       "0  <p><a href=\"http://s432.photobucket.com/albums...   \n",
       "1  <p>Join us for a quick, one-night, community-b...   \n",
       "2  <h3><span class=\"subcategory\"><strong>Teacher ...   \n",
       "3  <p style=\"margin-bottom: 1.3em; padding-bottom...   \n",
       "4  <p>Writers and filmmakers need to understand t...   \n",
       "\n",
       "                 email_domain  event_created   event_end  event_published  \\\n",
       "0                   gmail.com     1262739706  1265630400     1.263110e+09   \n",
       "1                     ruf.org     1293832670  1296288000     1.293833e+09   \n",
       "2              pvsd.k12.ca.us     1291090956  1295740800     1.291092e+09   \n",
       "3        irishtabletennis.com     1360681570  1388534400     1.360683e+09   \n",
       "4  artsandbusinesscouncil.org     1291994666  1297468800     1.291995e+09   \n",
       "\n",
       "   event_start  fb_published      gts  has_analytics  has_header  has_logo  \\\n",
       "0   1265594400             0     0.00              0         1.0         0   \n",
       "1   1296255600             0   868.02              0         0.0         1   \n",
       "2   1295713800             0  3500.00              0         NaN         0   \n",
       "3   1360702800             0  1167.35              0         0.0         1   \n",
       "4   1297440000             1  2313.15              0         0.0         0   \n",
       "\n",
       "  listed                                               name  name_length  \\\n",
       "0      y  99 HOUR \"NO SLEEP\" SUPER BOWL CELEBRITY WEEKEN...           60   \n",
       "1      n                        Winthrop RUF Winter Getaway           27   \n",
       "2      y                       DRDP (2010) Teacher Training           28   \n",
       "3      y                              ITTA Affiliation 2013           21   \n",
       "4      y  Self Defense for Writers and Filmmakers: For A...           66   \n",
       "\n",
       "   num_order  num_payouts  object_id  \\\n",
       "0          0            0     527017   \n",
       "1         23            1     786878   \n",
       "2         19            4     787337   \n",
       "3         39           16     885645   \n",
       "4         30            0    1114349   \n",
       "\n",
       "                                            org_desc  org_facebook  \\\n",
       "0                                                              0.0   \n",
       "1  <p>Since 1987, RUF has ministered to students ...           0.0   \n",
       "2  <p><a href=\"http://www.desiredresults.com\">www...           0.0   \n",
       "3                                                              0.0   \n",
       "4  <p><font face=\"Arial\"><font size=\"2\"><strong>T...           0.0   \n",
       "\n",
       "                                            org_name  org_twitter  \\\n",
       "0              Party Starz Ent & Diverse Int'l Group          0.0   \n",
       "1                         RUF at Winthrop University         12.0   \n",
       "2  University Preparation School in collaboration...          0.0   \n",
       "3                                                             0.0   \n",
       "4         Arts & Business Council of Greater Boston           0.0   \n",
       "\n",
       "                                    payee_name payout_type  \\\n",
       "0                                                            \n",
       "1                                          RUF       CHECK   \n",
       "2                University Preparation School       CHECK   \n",
       "3                                                      ACH   \n",
       "4  Arts and Business Council or Greater Boston       CHECK   \n",
       "\n",
       "                                    previous_payouts  sale_duration  \\\n",
       "0                                                 []           29.0   \n",
       "1  [{'name': 'RUF', 'created': '2010-10-01 01:10:...           28.0   \n",
       "2  [{'name': 'Danielle Severn', 'created': '2010-...           54.0   \n",
       "3  [{'name': '', 'created': '2010-11-09 01:10:15'...            0.0   \n",
       "4  [{'name': 'Arts and Business Council or Greate...           63.0   \n",
       "\n",
       "   sale_duration2  show_map  \\\n",
       "0              33         1   \n",
       "1              28         0   \n",
       "2              54         0   \n",
       "3               0         0   \n",
       "4              63         0   \n",
       "\n",
       "                                        ticket_types  user_age  user_created  \\\n",
       "0  [{'event_id': 527017, 'cost': 25.0, 'availabil...        36    1259613950   \n",
       "1  [{'event_id': 786878, 'cost': 35.0, 'availabil...       149    1280942776   \n",
       "2  [{'event_id': 787337, 'cost': 93.51, 'availabi...       214    1272559388   \n",
       "3  [{'event_id': 885645, 'cost': 25.0, 'availabil...       889    1283870102   \n",
       "4  [{'event_id': 1114349, 'cost': 150.0, 'availab...        35    1288984065   \n",
       "\n",
       "   user_type                 venue_address venue_country  venue_latitude  \\\n",
       "0          1         717 Washington Avenue            US       25.777471   \n",
       "1          3                                          US       32.776566   \n",
       "2          3  10100 Pioneer Blvd Suite 100            US       33.944201   \n",
       "3          3                                        None             NaN   \n",
       "4          3        One Marina Park Drive             US       42.353848   \n",
       "\n",
       "   venue_longitude                              venue_name venue_state  \n",
       "0       -80.133433             INK Nightclub - South Beach          FL  \n",
       "1       -79.930922                 The Charleston, SC area          SC  \n",
       "2      -118.080419  Los Angeles County Office of Education          CA  \n",
       "3              NaN                                    None        None  \n",
       "4       -71.044276                       Fish & Richardson          MA  "
      ]
     },
     "execution_count": 57,
     "metadata": {},
     "output_type": "execute_result"
    }
   ],
   "source": [
    "data.head()"
   ]
  },
  {
   "cell_type": "code",
   "execution_count": 58,
   "metadata": {
    "scrolled": true
   },
   "outputs": [
    {
     "name": "stdout",
     "output_type": "stream",
     "text": [
      "<class 'pandas.core.frame.DataFrame'>\n",
      "Int64Index: 13337 entries, 0 to 14336\n",
      "Data columns (total 44 columns):\n",
      "acct_type             13337 non-null object\n",
      "approx_payout_date    13337 non-null int64\n",
      "body_length           13337 non-null int64\n",
      "channels              13337 non-null int64\n",
      "country               13263 non-null object\n",
      "currency              13337 non-null object\n",
      "delivery_method       13324 non-null float64\n",
      "description           13337 non-null object\n",
      "email_domain          13337 non-null object\n",
      "event_created         13337 non-null int64\n",
      "event_end             13337 non-null int64\n",
      "event_published       13250 non-null float64\n",
      "event_start           13337 non-null int64\n",
      "fb_published          13337 non-null int64\n",
      "gts                   13337 non-null float64\n",
      "has_analytics         13337 non-null int64\n",
      "has_header            8306 non-null float64\n",
      "has_logo              13337 non-null int64\n",
      "listed                13337 non-null object\n",
      "name                  13337 non-null object\n",
      "name_length           13337 non-null int64\n",
      "num_order             13337 non-null int64\n",
      "num_payouts           13337 non-null int64\n",
      "object_id             13337 non-null int64\n",
      "org_desc              13337 non-null object\n",
      "org_facebook          13280 non-null float64\n",
      "org_name              13337 non-null object\n",
      "org_twitter           13280 non-null float64\n",
      "payee_name            13337 non-null object\n",
      "payout_type           13337 non-null object\n",
      "previous_payouts      13337 non-null object\n",
      "sale_duration         13198 non-null float64\n",
      "sale_duration2        13337 non-null int64\n",
      "show_map              13337 non-null int64\n",
      "ticket_types          13337 non-null object\n",
      "user_age              13337 non-null int64\n",
      "user_created          13337 non-null int64\n",
      "user_type             13337 non-null int64\n",
      "venue_address         13337 non-null object\n",
      "venue_country         12336 non-null object\n",
      "venue_latitude        12336 non-null float64\n",
      "venue_longitude       12336 non-null float64\n",
      "venue_name            12336 non-null object\n",
      "venue_state           12336 non-null object\n",
      "dtypes: float64(9), int64(18), object(17)\n",
      "memory usage: 5.2+ MB\n"
     ]
    }
   ],
   "source": [
    "data.info()"
   ]
  },
  {
   "cell_type": "code",
   "execution_count": 59,
   "metadata": {
    "collapsed": true
   },
   "outputs": [],
   "source": [
    "# label = {'label':{'fraudster_event': True, 'premium': False, 'spammer_warn': False, 'fraudster': True,\n",
    "#        'spammer_limited': False, 'spammer_noinvite': False, 'locked': False, 'tos_lock': False,\n",
    "#        'tos_warn': False, 'fraudster_att': True, 'spammer_web': False, 'spammer': False}, 'listed': {'y': 1, 'n': 0}, \"payout_type\": {\"\": \"undefined\"}}\n"
   ]
  },
  {
   "cell_type": "code",
   "execution_count": 60,
   "metadata": {
    "collapsed": true
   },
   "outputs": [],
   "source": [
    "# columns=['approx_payout_date','country','description', 'email_domain','event_created','event_end',\n",
    "#                  'event_published','event_start', 'name', 'object_id','org_desc',\n",
    "#                 'org_name', 'payee_name', 'previous_payouts', 'ticket_types','user_created','user_type', 'venue_address', 'venue_country',\n",
    "#                    'venue_latitude', 'venue_longitude', 'venue_name', 'venue_state','has_header']\n"
   ]
  },
  {
   "cell_type": "code",
   "execution_count": 61,
   "metadata": {
    "collapsed": true
   },
   "outputs": [],
   "source": [
    "df = eda.clean_data(data)"
   ]
  },
  {
   "cell_type": "code",
   "execution_count": 62,
   "metadata": {
    "scrolled": true
   },
   "outputs": [
    {
     "data": {
      "text/html": [
       "<div>\n",
       "<style scoped>\n",
       "    .dataframe tbody tr th:only-of-type {\n",
       "        vertical-align: middle;\n",
       "    }\n",
       "\n",
       "    .dataframe tbody tr th {\n",
       "        vertical-align: top;\n",
       "    }\n",
       "\n",
       "    .dataframe thead th {\n",
       "        text-align: right;\n",
       "    }\n",
       "</style>\n",
       "<table border=\"1\" class=\"dataframe\">\n",
       "  <thead>\n",
       "    <tr style=\"text-align: right;\">\n",
       "      <th></th>\n",
       "      <th>label</th>\n",
       "      <th>body_length</th>\n",
       "      <th>channels</th>\n",
       "      <th>delivery_method</th>\n",
       "      <th>fb_published</th>\n",
       "      <th>gts</th>\n",
       "      <th>has_analytics</th>\n",
       "      <th>has_logo</th>\n",
       "      <th>listed</th>\n",
       "      <th>name_length</th>\n",
       "      <th>num_order</th>\n",
       "      <th>num_payouts</th>\n",
       "      <th>org_facebook</th>\n",
       "      <th>org_twitter</th>\n",
       "      <th>sale_duration</th>\n",
       "      <th>sale_duration2</th>\n",
       "      <th>show_map</th>\n",
       "      <th>user_age</th>\n",
       "      <th>sold</th>\n",
       "      <th>currency_AUD</th>\n",
       "      <th>currency_CAD</th>\n",
       "      <th>currency_EUR</th>\n",
       "      <th>currency_GBP</th>\n",
       "      <th>currency_MXN</th>\n",
       "      <th>currency_NZD</th>\n",
       "      <th>currency_USD</th>\n",
       "      <th>payout_type_ACH</th>\n",
       "      <th>payout_type_CHECK</th>\n",
       "      <th>payout_type_undefined</th>\n",
       "      <th>public_domain_False</th>\n",
       "      <th>public_domain_True</th>\n",
       "    </tr>\n",
       "  </thead>\n",
       "  <tbody>\n",
       "    <tr>\n",
       "      <th>0</th>\n",
       "      <td>True</td>\n",
       "      <td>3852</td>\n",
       "      <td>5</td>\n",
       "      <td>0.0</td>\n",
       "      <td>0</td>\n",
       "      <td>0.00</td>\n",
       "      <td>0</td>\n",
       "      <td>0</td>\n",
       "      <td>1</td>\n",
       "      <td>60</td>\n",
       "      <td>0</td>\n",
       "      <td>0</td>\n",
       "      <td>0.0</td>\n",
       "      <td>0.0</td>\n",
       "      <td>29.0</td>\n",
       "      <td>33</td>\n",
       "      <td>1</td>\n",
       "      <td>36</td>\n",
       "      <td>0</td>\n",
       "      <td>0</td>\n",
       "      <td>0</td>\n",
       "      <td>0</td>\n",
       "      <td>0</td>\n",
       "      <td>0</td>\n",
       "      <td>0</td>\n",
       "      <td>1</td>\n",
       "      <td>0</td>\n",
       "      <td>0</td>\n",
       "      <td>1</td>\n",
       "      <td>0</td>\n",
       "      <td>1</td>\n",
       "    </tr>\n",
       "    <tr>\n",
       "      <th>1</th>\n",
       "      <td>False</td>\n",
       "      <td>3499</td>\n",
       "      <td>0</td>\n",
       "      <td>1.0</td>\n",
       "      <td>0</td>\n",
       "      <td>868.02</td>\n",
       "      <td>0</td>\n",
       "      <td>1</td>\n",
       "      <td>0</td>\n",
       "      <td>27</td>\n",
       "      <td>23</td>\n",
       "      <td>1</td>\n",
       "      <td>0.0</td>\n",
       "      <td>12.0</td>\n",
       "      <td>28.0</td>\n",
       "      <td>28</td>\n",
       "      <td>0</td>\n",
       "      <td>149</td>\n",
       "      <td>25</td>\n",
       "      <td>0</td>\n",
       "      <td>0</td>\n",
       "      <td>0</td>\n",
       "      <td>0</td>\n",
       "      <td>0</td>\n",
       "      <td>0</td>\n",
       "      <td>1</td>\n",
       "      <td>0</td>\n",
       "      <td>1</td>\n",
       "      <td>0</td>\n",
       "      <td>1</td>\n",
       "      <td>0</td>\n",
       "    </tr>\n",
       "    <tr>\n",
       "      <th>2</th>\n",
       "      <td>False</td>\n",
       "      <td>2601</td>\n",
       "      <td>8</td>\n",
       "      <td>1.0</td>\n",
       "      <td>0</td>\n",
       "      <td>3500.00</td>\n",
       "      <td>0</td>\n",
       "      <td>0</td>\n",
       "      <td>1</td>\n",
       "      <td>28</td>\n",
       "      <td>19</td>\n",
       "      <td>4</td>\n",
       "      <td>0.0</td>\n",
       "      <td>0.0</td>\n",
       "      <td>54.0</td>\n",
       "      <td>54</td>\n",
       "      <td>0</td>\n",
       "      <td>214</td>\n",
       "      <td>48</td>\n",
       "      <td>0</td>\n",
       "      <td>0</td>\n",
       "      <td>0</td>\n",
       "      <td>0</td>\n",
       "      <td>0</td>\n",
       "      <td>0</td>\n",
       "      <td>1</td>\n",
       "      <td>0</td>\n",
       "      <td>1</td>\n",
       "      <td>0</td>\n",
       "      <td>1</td>\n",
       "      <td>0</td>\n",
       "    </tr>\n",
       "    <tr>\n",
       "      <th>3</th>\n",
       "      <td>False</td>\n",
       "      <td>12347</td>\n",
       "      <td>6</td>\n",
       "      <td>1.0</td>\n",
       "      <td>0</td>\n",
       "      <td>1167.35</td>\n",
       "      <td>0</td>\n",
       "      <td>1</td>\n",
       "      <td>1</td>\n",
       "      <td>21</td>\n",
       "      <td>39</td>\n",
       "      <td>16</td>\n",
       "      <td>0.0</td>\n",
       "      <td>0.0</td>\n",
       "      <td>0.0</td>\n",
       "      <td>0</td>\n",
       "      <td>0</td>\n",
       "      <td>889</td>\n",
       "      <td>58</td>\n",
       "      <td>0</td>\n",
       "      <td>0</td>\n",
       "      <td>1</td>\n",
       "      <td>0</td>\n",
       "      <td>0</td>\n",
       "      <td>0</td>\n",
       "      <td>0</td>\n",
       "      <td>1</td>\n",
       "      <td>0</td>\n",
       "      <td>0</td>\n",
       "      <td>1</td>\n",
       "      <td>0</td>\n",
       "    </tr>\n",
       "    <tr>\n",
       "      <th>4</th>\n",
       "      <td>False</td>\n",
       "      <td>2417</td>\n",
       "      <td>11</td>\n",
       "      <td>0.0</td>\n",
       "      <td>1</td>\n",
       "      <td>2313.15</td>\n",
       "      <td>0</td>\n",
       "      <td>0</td>\n",
       "      <td>1</td>\n",
       "      <td>66</td>\n",
       "      <td>30</td>\n",
       "      <td>0</td>\n",
       "      <td>0.0</td>\n",
       "      <td>0.0</td>\n",
       "      <td>63.0</td>\n",
       "      <td>63</td>\n",
       "      <td>0</td>\n",
       "      <td>35</td>\n",
       "      <td>39</td>\n",
       "      <td>0</td>\n",
       "      <td>0</td>\n",
       "      <td>0</td>\n",
       "      <td>0</td>\n",
       "      <td>0</td>\n",
       "      <td>0</td>\n",
       "      <td>1</td>\n",
       "      <td>0</td>\n",
       "      <td>1</td>\n",
       "      <td>0</td>\n",
       "      <td>1</td>\n",
       "      <td>0</td>\n",
       "    </tr>\n",
       "  </tbody>\n",
       "</table>\n",
       "</div>"
      ],
      "text/plain": [
       "   label  body_length  channels  delivery_method  fb_published      gts  \\\n",
       "0   True         3852         5              0.0             0     0.00   \n",
       "1  False         3499         0              1.0             0   868.02   \n",
       "2  False         2601         8              1.0             0  3500.00   \n",
       "3  False        12347         6              1.0             0  1167.35   \n",
       "4  False         2417        11              0.0             1  2313.15   \n",
       "\n",
       "   has_analytics  has_logo  listed  name_length  num_order  num_payouts  \\\n",
       "0              0         0       1           60          0            0   \n",
       "1              0         1       0           27         23            1   \n",
       "2              0         0       1           28         19            4   \n",
       "3              0         1       1           21         39           16   \n",
       "4              0         0       1           66         30            0   \n",
       "\n",
       "   org_facebook  org_twitter  sale_duration  sale_duration2  show_map  \\\n",
       "0           0.0          0.0           29.0              33         1   \n",
       "1           0.0         12.0           28.0              28         0   \n",
       "2           0.0          0.0           54.0              54         0   \n",
       "3           0.0          0.0            0.0               0         0   \n",
       "4           0.0          0.0           63.0              63         0   \n",
       "\n",
       "   user_age  sold  currency_AUD  currency_CAD  currency_EUR  currency_GBP  \\\n",
       "0        36     0             0             0             0             0   \n",
       "1       149    25             0             0             0             0   \n",
       "2       214    48             0             0             0             0   \n",
       "3       889    58             0             0             1             0   \n",
       "4        35    39             0             0             0             0   \n",
       "\n",
       "   currency_MXN  currency_NZD  currency_USD  payout_type_ACH  \\\n",
       "0             0             0             1                0   \n",
       "1             0             0             1                0   \n",
       "2             0             0             1                0   \n",
       "3             0             0             0                1   \n",
       "4             0             0             1                0   \n",
       "\n",
       "   payout_type_CHECK  payout_type_undefined  public_domain_False  \\\n",
       "0                  0                      1                    0   \n",
       "1                  1                      0                    1   \n",
       "2                  1                      0                    1   \n",
       "3                  0                      0                    1   \n",
       "4                  1                      0                    1   \n",
       "\n",
       "   public_domain_True  \n",
       "0                   1  \n",
       "1                   0  \n",
       "2                   0  \n",
       "3                   0  \n",
       "4                   0  "
      ]
     },
     "execution_count": 62,
     "metadata": {},
     "output_type": "execute_result"
    }
   ],
   "source": [
    "df.head()"
   ]
  },
  {
   "cell_type": "code",
   "execution_count": 63,
   "metadata": {
    "collapsed": true
   },
   "outputs": [],
   "source": [
    "y = df.pop(\"label\").values\n",
    "X = df.values"
   ]
  },
  {
   "cell_type": "code",
   "execution_count": 64,
   "metadata": {},
   "outputs": [
    {
     "data": {
      "text/plain": [
       "(13150, 30)"
      ]
     },
     "execution_count": 64,
     "metadata": {},
     "output_type": "execute_result"
    }
   ],
   "source": [
    "X.shape"
   ]
  },
  {
   "cell_type": "code",
   "execution_count": 65,
   "metadata": {
    "collapsed": true
   },
   "outputs": [],
   "source": [
    "X_train, X_test, y_train, y_test = train_test_split(X, y, test_size=0.25, random_state=1)"
   ]
  },
  {
   "cell_type": "code",
   "execution_count": 66,
   "metadata": {
    "collapsed": true
   },
   "outputs": [],
   "source": [
    "#first out of the bag model\n",
    "rf = RandomForestClassifier()\n",
    "rf.fit(X_train, y_train)\n",
    "y_predict = rf.predict(X_test)"
   ]
  },
  {
   "cell_type": "code",
   "execution_count": 67,
   "metadata": {
    "collapsed": true
   },
   "outputs": [],
   "source": [
    "#confusion matrix\n",
    "precision, recall, accuracy, matrix = eda.metrics(y_test, y_predict)"
   ]
  },
  {
   "cell_type": "code",
   "execution_count": 68,
   "metadata": {},
   "outputs": [
    {
     "data": {
      "text/plain": [
       "array([[ 232,   11],\n",
       "       [  34, 3011]])"
      ]
     },
     "execution_count": 68,
     "metadata": {},
     "output_type": "execute_result"
    }
   ],
   "source": [
    "matrix"
   ]
  },
  {
   "cell_type": "code",
   "execution_count": 69,
   "metadata": {},
   "outputs": [
    {
     "name": "stdout",
     "output_type": "stream",
     "text": [
      "Recall: 0.87\n",
      "Precision: 0.95\n",
      "Accuracy: 98.63\n"
     ]
    }
   ],
   "source": [
    "print(\"Recall: {}\".format(round(recall,2)))\n",
    "print(\"Precision: {}\".format(round(precision,2)))\n",
    "print(\"Accuracy: {}\".format(round(accuracy*100,2)))"
   ]
  },
  {
   "cell_type": "code",
   "execution_count": 70,
   "metadata": {
    "collapsed": true
   },
   "outputs": [],
   "source": [
    "#predicted probabilities\n",
    "scores = rf.predict_proba(X_test)"
   ]
  },
  {
   "cell_type": "code",
   "execution_count": 71,
   "metadata": {
    "collapsed": true
   },
   "outputs": [],
   "source": [
    "fpr, tpr, thresholds = metrics.roc_curve(y_test, scores[:,1], pos_label=1)"
   ]
  },
  {
   "cell_type": "code",
   "execution_count": 72,
   "metadata": {},
   "outputs": [
    {
     "data": {
      "text/plain": [
       "array([ 0.,  0.,  0., ...,  0.,  0.,  0.])"
      ]
     },
     "execution_count": 72,
     "metadata": {},
     "output_type": "execute_result"
    }
   ],
   "source": [
    "scores[:,1]"
   ]
  },
  {
   "cell_type": "code",
   "execution_count": 73,
   "metadata": {},
   "outputs": [
    {
     "data": {
      "image/png": "[encoded data removed]",
      "text/plain": [
       "<matplotlib.figure.Figure at 0x1a45082d68>"
      ]
     },
     "metadata": {},
     "output_type": "display_data"
    }
   ],
   "source": [
    "_=skplt.metrics.plot_roc(y_test, scores, plot_micro=False, plot_macro=False, figsize=(10,8))"
   ]
  },
  {
   "cell_type": "code",
   "execution_count": 74,
   "metadata": {},
   "outputs": [
    {
     "data": {
      "image/png": "[encoded data removed]",
      "text/plain": [
       "<matplotlib.figure.Figure at 0x1a45a6a5c0>"
      ]
     },
     "metadata": {},
     "output_type": "display_data"
    }
   ],
   "source": [
    "#Plotting the ROC curve\n",
    "plt.plot(fpr,tpr, label=\"ROC Curve\")\n",
    "plt.xlabel(\"False positive rate\")\n",
    "plt.ylabel(\"True positive rate\")\n",
    "plt.legend()\n",
    "plt.show()"
   ]
  },
  {
   "cell_type": "code",
   "execution_count": 75,
   "metadata": {
    "collapsed": true
   },
   "outputs": [],
   "source": [
    "# df[\"event_start\"]=df[\"event_start\"].map(lambda x: datetime.datetime.fromtimestamp(x).strftime(\"%Y-%m-%d %H:%M:%S\"))"
   ]
  },
  {
   "cell_type": "code",
   "execution_count": 76,
   "metadata": {
    "collapsed": true
   },
   "outputs": [],
   "source": [
    "# df[\"approx_payout_date_date\"]=df[\"approx_payout_date\"].map(lambda x: x.split(\" \")[0])\n",
    "# df[\"approx_payout_date_hour\"]=df[\"approx_payout_date\"].map(lambda x: int(x.split(\" \")[1].split(\":\")[0]))\n",
    "\n"
   ]
  },
  {
   "cell_type": "code",
   "execution_count": 77,
   "metadata": {
    "collapsed": true
   },
   "outputs": [],
   "source": [
    "# use a full grid over all parameters\n",
    "param_grid = {\"n_estimators\": [180],\n",
    "              \"max_depth\": [30],\n",
    "              \"max_features\": [5],\n",
    "              \"min_samples_split\": [4],\n",
    "              \"min_samples_leaf\": [2],\n",
    "              \"criterion\": [\"gini\"]}\n",
    "\n",
    "# run grid search\n",
    "start = time()\n",
    "grid_search = GridSearchCV(RandomForestClassifier(), param_grid=param_grid, n_jobs=-1)\n",
    "\n",
    "grid_search.fit(X_train, y_train)\n",
    "end = time()"
   ]
  },
  {
   "cell_type": "code",
   "execution_count": 78,
   "metadata": {},
   "outputs": [
    {
     "name": "stdout",
     "output_type": "stream",
     "text": [
      "Run time: 3.9s\n"
     ]
    }
   ],
   "source": [
    "print(\"Run time: {}s\".format(round(end - start, 2)))"
   ]
  },
  {
   "cell_type": "code",
   "execution_count": 79,
   "metadata": {},
   "outputs": [
    {
     "data": {
      "text/plain": [
       "RandomForestClassifier(bootstrap=True, class_weight=None, criterion='gini',\n",
       "            max_depth=30, max_features=5, max_leaf_nodes=None,\n",
       "            min_impurity_decrease=0.0, min_impurity_split=None,\n",
       "            min_samples_leaf=2, min_samples_split=4,\n",
       "            min_weight_fraction_leaf=0.0, n_estimators=180, n_jobs=1,\n",
       "            oob_score=False, random_state=None, verbose=0,\n",
       "            warm_start=False)"
      ]
     },
     "execution_count": 79,
     "metadata": {},
     "output_type": "execute_result"
    }
   ],
   "source": [
    "#Checking to see estimators with best results\n",
    "rf2 = grid_search.best_estimator_\n",
    "rf2"
   ]
  },
  {
   "cell_type": "code",
   "execution_count": 80,
   "metadata": {
    "collapsed": true
   },
   "outputs": [],
   "source": [
    "#creating prediction\n",
    "y_pred = rf2.predict(X_test)"
   ]
  },
  {
   "cell_type": "code",
   "execution_count": 81,
   "metadata": {
    "collapsed": true
   },
   "outputs": [],
   "source": [
    "#confusion matrix\n",
    "precision, recall, accuracy, matrix = eda.metrics(y_test, y_pred)"
   ]
  },
  {
   "cell_type": "code",
   "execution_count": 82,
   "metadata": {},
   "outputs": [
    {
     "data": {
      "text/plain": [
       "array([[ 233,   11],\n",
       "       [  33, 3011]])"
      ]
     },
     "execution_count": 82,
     "metadata": {},
     "output_type": "execute_result"
    }
   ],
   "source": [
    "matrix"
   ]
  },
  {
   "cell_type": "code",
   "execution_count": 83,
   "metadata": {},
   "outputs": [
    {
     "name": "stdout",
     "output_type": "stream",
     "text": [
      "Recall: 0.88\n",
      "Precision: 0.95\n",
      "Accuracy: 98.66\n"
     ]
    }
   ],
   "source": [
    "print(\"Recall: {}\".format(round(recall,2)))\n",
    "print(\"Precision: {}\".format(round(precision,2)))\n",
    "print(\"Accuracy: {}\".format(round(accuracy*100,2)))"
   ]
  },
  {
   "cell_type": "code",
   "execution_count": 84,
   "metadata": {},
   "outputs": [],
   "source": [
    "#predicted probabilities\n",
    "scores = rf2.predict_proba(X_test)"
   ]
  },
  {
   "cell_type": "code",
   "execution_count": 87,
   "metadata": {
    "scrolled": false
   },
   "outputs": [
    {
     "data": {
      "image/png": "[encoded data removed]",
      "text/plain": [
       "<matplotlib.figure.Figure at 0x1a46d06d30>"
      ]
     },
     "metadata": {},
     "output_type": "display_data"
    }
   ],
   "source": [
    "_=skplt.metrics.plot_roc(y_test, scores, plot_micro=False, plot_macro=False, figsize=(10,8), title=\"RandomForest model ROC Curve\")"
   ]
  },
  {
   "cell_type": "code",
   "execution_count": null,
   "metadata": {
    "collapsed": true
   },
   "outputs": [],
   "source": []
  }
 ],
 "metadata": {
  "kernelspec": {
   "display_name": "Python 3",
   "language": "python",
   "name": "python3"
  },
  "language_info": {
   "codemirror_mode": {
    "name": "ipython",
    "version": 3
   },
   "file_extension": ".py",
   "mimetype": "text/x-python",
   "name": "python",
   "nbconvert_exporter": "python",
   "pygments_lexer": "ipython3",
   "version": "3.6.3"
  }
 },
 "nbformat": 4,
 "nbformat_minor": 2
}
